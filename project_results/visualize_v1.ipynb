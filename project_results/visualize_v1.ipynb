{
 "cells": [
  {
   "cell_type": "code",
   "execution_count": 9,
   "id": "a14c0e5e-89de-4baf-923d-68167a733f95",
   "metadata": {},
   "outputs": [],
   "source": [
    "import matplotlib.pyplot as plt\n",
    "import time\n",
    "import os\n",
    "\n",
    "# Define the (input_file, output_dir) pairs\n",
    "datasets = [\n",
    "    (\"bitonic_states_v1.txt\", \"v1_pictures\"),\n",
    "    (\"bitonic_states_v2.txt\", \"v2_pictures\"),\n",
    "    (\"bitonic_states_v3.txt\", \"v3_pictures\"),\n",
    "]\n",
    "\n",
    "# Process each dataset\n",
    "for input_file, output_dir in datasets:\n",
    "    # Ensure output directory exists\n",
    "    os.makedirs(output_dir, exist_ok=True)\n",
    "\n",
    "    # Read the recorded states\n",
    "    with open(input_file, \"r\") as f:\n",
    "        lines = f.readlines()\n",
    "\n",
    "    states = []\n",
    "    labels = []\n",
    "\n",
    "    # Parse the lines\n",
    "    for line in lines:\n",
    "        label, values_str = line.split(\":\")\n",
    "        values = list(map(int, values_str.strip().split()))\n",
    "        states.append(values)\n",
    "        labels.append(label)\n",
    "\n",
    "    # Generate and save charts\n",
    "    for i, values in enumerate(states):\n",
    "        plt.figure(figsize=(10, 5))\n",
    "        plt.bar(range(len(values)), values, color='skyblue')\n",
    "        plt.title(f\"{input_file} - Step {i + 1}: {labels[i]}\")\n",
    "        plt.xlabel(\"Index\")\n",
    "        plt.ylabel(\"Value\")\n",
    "        plt.tight_layout()\n",
    "        plt.savefig(f\"{output_dir}/step_{i + 1}.png\")\n",
    "        plt.close()  # Close figure to save memory during loop\n"
   ]
  },
  {
   "cell_type": "code",
   "execution_count": null,
   "id": "7150f9e6-54c5-4b53-a25e-221de433b69c",
   "metadata": {},
   "outputs": [],
   "source": []
  }
 ],
 "metadata": {
  "kernelspec": {
   "display_name": "Python 3 (ipykernel)",
   "language": "python",
   "name": "python3"
  },
  "language_info": {
   "codemirror_mode": {
    "name": "ipython",
    "version": 3
   },
   "file_extension": ".py",
   "mimetype": "text/x-python",
   "name": "python",
   "nbconvert_exporter": "python",
   "pygments_lexer": "ipython3",
   "version": "3.10.12"
  }
 },
 "nbformat": 4,
 "nbformat_minor": 5
}
