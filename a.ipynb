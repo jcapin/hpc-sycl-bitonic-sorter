{
 "cells": [
  {
   "cell_type": "code",
   "execution_count": null,
   "id": "9848d040-7594-42bf-84d9-bb489d82875b",
   "metadata": {},
   "outputs": [],
   "source": [
    "import matplotlib.pyplot as plt\n",
    "import matplotlib.animation as animation\n",
    "\n",
    "# Read the recorded states from the text file\n",
    "with open(\"bitonic_states.txt\", \"r\") as f:\n",
    "    lines = f.readlines()\n",
    "\n",
    "states = []\n",
    "labels = []\n",
    "\n",
    "# Parse the lines\n",
    "for line in lines:\n",
    "    label, values_str = line.split(\":\")\n",
    "    values = list(map(int, values_str.strip().split()))\n",
    "    states.append(values)\n",
    "    labels.append(label)\n",
    "\n",
    "# Setup the bar chart\n",
    "fig, ax = plt.subplots()\n",
    "bar_rects = ax.bar(range(len(states[0])), states[0], color='skyblue')\n",
    "title = ax.set_title(\"\")\n",
    "\n",
    "def update(frame):\n",
    "    for rect, h in zip(bar_rects, states[frame]):\n",
    "        rect.set_height(h)\n",
    "    title.set_text(f\"Step {frame + 1}: {labels[frame]}\")\n",
    "\n",
    "ani = animation.FuncAnimation(fig, update, frames=len(states), repeat=False, interval=800)\n",
    "\n",
    "plt.xlabel(\"Index\")\n",
    "plt.ylabel(\"Value\")\n",
    "plt.tight_layout()\n",
    "plt.show()\n"
   ]
  }
 ],
 "metadata": {
  "kernelspec": {
   "display_name": "Python 3 (ipykernel)",
   "language": "python",
   "name": "python3"
  },
  "language_info": {
   "codemirror_mode": {
    "name": "ipython",
    "version": 3
   },
   "file_extension": ".py",
   "mimetype": "text/x-python",
   "name": "python",
   "nbconvert_exporter": "python",
   "pygments_lexer": "ipython3",
   "version": "3.10.12"
  }
 },
 "nbformat": 4,
 "nbformat_minor": 5
}
